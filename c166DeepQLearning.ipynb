{
  "cells": [
    {
      "cell_type": "markdown",
      "metadata": {
        "id": "view-in-github",
        "colab_type": "text"
      },
      "source": [
        "<a href=\"https://colab.research.google.com/github/wockeshuh/CSCI166/blob/main/c166DeepQLearning.ipynb\" target=\"_parent\"><img src=\"https://colab.research.google.com/assets/colab-badge.svg\" alt=\"Open In Colab\"/></a>"
      ]
    },
    {
      "cell_type": "code",
      "execution_count": 3,
      "metadata": {
        "colab": {
          "base_uri": "https://localhost:8080/"
        },
        "id": "OJQUvyAlEC42",
        "outputId": "cdfd3fe1-8d7f-467e-c979-5ffcf346bac6"
      },
      "outputs": [
        {
          "output_type": "stream",
          "name": "stdout",
          "text": [
            "Collecting gymnasium\n",
            "  Downloading gymnasium-0.29.1-py3-none-any.whl.metadata (10 kB)\n",
            "Requirement already satisfied: numpy>=1.21.0 in /usr/local/lib/python3.10/dist-packages (from gymnasium) (1.26.4)\n",
            "Requirement already satisfied: cloudpickle>=1.2.0 in /usr/local/lib/python3.10/dist-packages (from gymnasium) (3.0.0)\n",
            "Requirement already satisfied: typing-extensions>=4.3.0 in /usr/local/lib/python3.10/dist-packages (from gymnasium) (4.12.2)\n",
            "Collecting farama-notifications>=0.0.1 (from gymnasium)\n",
            "  Downloading Farama_Notifications-0.0.4-py3-none-any.whl.metadata (558 bytes)\n",
            "Downloading gymnasium-0.29.1-py3-none-any.whl (953 kB)\n",
            "\u001b[2K   \u001b[90m━━━━━━━━━━━━━━━━━━━━━━━━━━━━━━━━━━━━━━━━\u001b[0m \u001b[32m953.9/953.9 kB\u001b[0m \u001b[31m5.7 MB/s\u001b[0m eta \u001b[36m0:00:00\u001b[0m\n",
            "\u001b[?25hDownloading Farama_Notifications-0.0.4-py3-none-any.whl (2.5 kB)\n",
            "Installing collected packages: farama-notifications, gymnasium\n",
            "Successfully installed farama-notifications-0.0.4 gymnasium-0.29.1\n"
          ]
        }
      ],
      "source": [
        "!pip install gymnasium"
      ]
    },
    {
      "cell_type": "code",
      "execution_count": 54,
      "metadata": {
        "colab": {
          "base_uri": "https://localhost:8080/"
        },
        "id": "lGN-Jy0lD2g9",
        "outputId": "2441af60-4660-4326-bc14-a28f0fa5b094"
      },
      "outputs": [
        {
          "output_type": "stream",
          "name": "stdout",
          "text": [
            "Num GPUs Available:  0\n",
            "Num CPUs Available:  1\n"
          ]
        }
      ],
      "source": [
        "import random, time\n",
        "from collections import deque, namedtuple\n",
        "\n",
        "import gymnasium as gym\n",
        "import numpy as np\n",
        "import tensorflow as tf\n",
        "print(\"Num GPUs Available: \", len(tf.config.list_physical_devices('GPU')))\n",
        "print(\"Num CPUs Available: \", len(tf.config.list_physical_devices('CPU')))\n",
        "\n",
        "from tqdm.auto import tqdm\n",
        "\n",
        "n_episodes = 50 # play 1000 games\n",
        "eps = 0.8  # exploration rate, probability of choosing random action\n",
        "eps_decay = 0.9975  # eps gets multiplied by this number each epoch...\n",
        "min_eps = 0.1  # ...until this minimum eps is reached\n",
        "gamma = 0.99  # discount\n",
        "max_memory_size = 10000  # size of the replay memory\n",
        "batch_size = 16  # batch size of the neural network training\n",
        "min_length = 160  # minimum length of the replay memory for training, before it reached this length, no gradient updates happen\n",
        "memory_parts = [\n",
        "    \"state\",\n",
        "    \"action\",\n",
        "    \"next_state\",\n",
        "    \"reward\",\n",
        "    \"done\",\n",
        "]  # nice names for the part of replay memory, otherweise the names are 0-5"
      ]
    },
    {
      "cell_type": "code",
      "execution_count": 55,
      "metadata": {
        "colab": {
          "base_uri": "https://localhost:8080/"
        },
        "id": "xJjoVUSFZ3Yp",
        "outputId": "0241a408-5382-4a1d-e3a0-c91863da7518"
      },
      "outputs": [
        {
          "output_type": "stream",
          "name": "stdout",
          "text": [
            "Mounted at /content/drive\n"
          ]
        }
      ],
      "source": [
        "from google.colab import drive\n",
        "drive.mount('/content/drive', force_remount=True)"
      ]
    },
    {
      "cell_type": "markdown",
      "source": [
        "# Learning A Model"
      ],
      "metadata": {
        "id": "3RZqb4JV7Ag2"
      }
    },
    {
      "cell_type": "code",
      "execution_count": 56,
      "metadata": {
        "id": "hERWxJ3jEMMH"
      },
      "outputs": [],
      "source": [
        "Memory = namedtuple(\"Memory\", memory_parts)  # a single entry of the memory replay\n",
        "\n",
        "\n",
        "class ReplayMemory:\n",
        "    def __init__(self, max_length=None):\n",
        "        self.max_length = max_length\n",
        "        self.memory = deque(maxlen=max_length)\n",
        "\n",
        "    def store(self, data):\n",
        "        self.memory.append(data)\n",
        "\n",
        "    def _sample(self, k):\n",
        "        return random.sample(self.memory, k)\n",
        "\n",
        "    def structured_sample(self, k):\n",
        "        batch = self._sample(k)\n",
        "        result = {}\n",
        "        for i, part in enumerate(memory_parts):\n",
        "            result[part] = np.array([row[i] for row in batch])\n",
        "\n",
        "        return result\n",
        "\n",
        "    def __len__(self):\n",
        "        return len(self.memory)"
      ]
    },
    {
      "cell_type": "code",
      "execution_count": 57,
      "metadata": {
        "id": "AWYz3_bUETMT"
      },
      "outputs": [],
      "source": [
        "model = tf.keras.Sequential(\n",
        "    [\n",
        "        tf.keras.layers.Input(shape=(4,)),  # Define input shape with Input layer\n",
        "        tf.keras.layers.Dense(128, activation=\"relu\"),\n",
        "        tf.keras.layers.Dense(64, activation=\"relu\"),\n",
        "        tf.keras.layers.Dense(16, activation=\"relu\"),\n",
        "        tf.keras.layers.Dense(2, activation=\"linear\"),  # 2 actions: go left or go right\n",
        "    ]\n",
        ")\n",
        "model.compile(\n",
        "    loss=tf.keras.losses.MeanSquaredError(),\n",
        "    optimizer=tf.keras.optimizers.Adam(learning_rate=0.01),\n",
        ")"
      ]
    },
    {
      "cell_type": "code",
      "execution_count": 58,
      "metadata": {
        "colab": {
          "base_uri": "https://localhost:8080/",
          "height": 85,
          "referenced_widgets": [
            "0d9c896cd98b4243b3a52ae8179aeacb",
            "9738bed429dc4bb1a021c8ddf4cc84c9",
            "e83e252b7ea6470e9e2cd9d4be0edcca",
            "a55098823eef4a4c9751ca7b75d0a8b1",
            "96ed032e244f4b49b7cb944730d345fb",
            "84424a11155a479e99ced105d56fc182",
            "9fd10e6f73a741c38f982dc67d965921",
            "3d3f4489fba84be3baa972bf802bfda9",
            "a413a8fd88614221b3d146def96612e2",
            "38cb33e7f58149ab8b4e795e58366ed7",
            "b8852e6ee72c41388955bc0199c0ec70"
          ]
        },
        "id": "A3tUkXVAEzOI",
        "outputId": "dfc3cd4e-307a-4457-c22f-50cf8533e687"
      },
      "outputs": [
        {
          "output_type": "display_data",
          "data": {
            "text/plain": [
              "  0%|          | 0/50 [00:00<?, ?it/s]"
            ],
            "application/vnd.jupyter.widget-view+json": {
              "version_major": 2,
              "version_minor": 0,
              "model_id": "0d9c896cd98b4243b3a52ae8179aeacb"
            }
          },
          "metadata": {}
        },
        {
          "output_type": "stream",
          "name": "stdout",
          "text": [
            "/content/drive/My Drive/my_QmodelB_0iterations.keras\n",
            "/content/drive/My Drive/my_QmodelB_49iterations.keras\n"
          ]
        }
      ],
      "source": [
        "env = gym.make(\"CartPole-v1\")\n",
        "replay_memory = ReplayMemory(max_length=max_memory_size)\n",
        "\n",
        "for episode in tqdm(range(n_episodes)):  # tqdm makes a nice proress bar\n",
        "    state, _ = env.reset()\n",
        "    done = False\n",
        "\n",
        "    while not done:\n",
        "        if random.random() < eps:\n",
        "            action = env.action_space.sample()  # random action\n",
        "        else:\n",
        "            action = model.predict(state[np.newaxis, :], verbose=False).argmax()  # best action according to the model\n",
        "\n",
        "        next_state, reward, done, _, _ = env.step(action)\n",
        "        memory = Memory(state, action, next_state, reward, done)\n",
        "        replay_memory.store(memory)\n",
        "\n",
        "        if len(replay_memory) >= min_length:\n",
        "            batch = replay_memory.structured_sample(batch_size)  # get samples from the replay memory\n",
        "\n",
        "            target_batch = batch[\"reward\"] + gamma * model.predict(batch[\"next_state\"], verbose=False).max(axis=1) * (\n",
        "                1 - batch[\"done\"]\n",
        "            )  # R(s, a) + γ·maxₐ N(s') if not a terminal state, otherwise R(s, a)\n",
        "            targets = model.predict(batch[\"state\"], verbose=False)\n",
        "            targets[\n",
        "                range(batch_size), batch[\"action\"]\n",
        "            ] = target_batch  # set the target for the action that was done and leave the outputs of other 3 actions as they are\n",
        "\n",
        "            model.fit(batch[\"state\"], targets, verbose=False, batch_size=batch_size)  # train for one epoch\n",
        "\n",
        "        state = next_state\n",
        "    if episode % 100 == 0:\n",
        "      save_path = '/content/drive/My Drive/my_QmodelB_{}iterations.keras'.format(episode)\n",
        "      print (save_path)\n",
        "      model.save(save_path)\n",
        "    eps = max(min_eps, eps * eps_decay)\n",
        "save_path = '/content/drive/My Drive/my_QmodelB_{}iterations.keras'.format(episode)\n",
        "print (save_path)\n",
        "model.save(save_path)"
      ]
    },
    {
      "cell_type": "code",
      "source": [
        "eps_decay = 0.9975\n",
        "min_eps = 0.01\n",
        "eps = 1.0\n",
        "for i in range(50):\n",
        "  eps = max(min_eps, eps * eps_decay)\n",
        "  if (i % 10==0):\n",
        "    print (i, eps)\n",
        "\n",
        "print(eps)"
      ],
      "metadata": {
        "colab": {
          "base_uri": "https://localhost:8080/"
        },
        "id": "3fqH3YTuBFo2",
        "outputId": "199b0e7c-b799-46ba-d52d-a244c1c1eb28"
      },
      "execution_count": 59,
      "outputs": [
        {
          "output_type": "stream",
          "name": "stdout",
          "text": [
            "0 0.9975\n",
            "10 0.972841184720621\n",
            "20 0.9487919505650338\n",
            "30 0.9253372283118559\n",
            "40 0.9024623212601521\n",
            "0.8823587930030068\n"
          ]
        }
      ]
    },
    {
      "cell_type": "markdown",
      "source": [
        "# Test Learned Models"
      ],
      "metadata": {
        "id": "o3iVpRrR5AK9"
      }
    },
    {
      "cell_type": "code",
      "source": [
        "## Choose Model\n",
        "version = 1\n",
        "models = [(0, '1KbF5K_lmqb7_9t5GaMmzeBqS6yrcDF-J'), (49, '1-1ZxkEknQ-_Ru-Z63oaMWiLqaSufW2kz')]\n",
        "\n",
        "!gdown {models[version][1]}\n",
        "save_path=f'my_QmodelB_{models[version][0]}iterations.keras'\n",
        "print(save_path)"
      ],
      "metadata": {
        "colab": {
          "base_uri": "https://localhost:8080/"
        },
        "id": "9rrki-w45Wsu",
        "outputId": "be9b388f-4b95-4481-cfc2-8545c6db6ec2"
      },
      "execution_count": 61,
      "outputs": [
        {
          "output_type": "stream",
          "name": "stdout",
          "text": [
            "Downloading...\n",
            "From: https://drive.google.com/uc?id=1-1ZxkEknQ-_Ru-Z63oaMWiLqaSufW2kz\n",
            "To: /content/my_QmodelB_49iterations.keras\n",
            "\r  0% 0.00/148k [00:00<?, ?B/s]\r100% 148k/148k [00:00<00:00, 95.5MB/s]\n",
            "my_QmodelB_49iterations.keras\n"
          ]
        }
      ]
    },
    {
      "cell_type": "code",
      "source": [
        "import matplotlib.pyplot as plt\n",
        "import gymnasium as gym\n",
        "import tensorflow as tf\n",
        "\n",
        "from tensorflow.keras.models import load_model\n",
        "\n",
        "model = load_model(save_path, compile=False)\n",
        "model.compile(\n",
        "    loss=tf.keras.losses.MeanSquaredError(),\n",
        "    optimizer=tf.keras.optimizers.Adam(learning_rate=0.01),\n",
        ")"
      ],
      "metadata": {
        "id": "uovqNleA7SB4"
      },
      "execution_count": 63,
      "outputs": []
    },
    {
      "cell_type": "code",
      "execution_count": 64,
      "metadata": {
        "colab": {
          "base_uri": "https://localhost:8080/",
          "height": 793
        },
        "id": "_vnZPrO0W4c3",
        "outputId": "f21ca886-3ff4-48ed-e737-66de00104bf6"
      },
      "outputs": [
        {
          "output_type": "display_data",
          "data": {
            "text/plain": [
              "<Figure size 640x480 with 1 Axes>"
            ],
            "image/png": "[encoded data removed]"
          },
          "metadata": {}
        },
        {
          "output_type": "stream",
          "name": "stdout",
          "text": [
            "action=1, total_reward=1.0\n"
          ]
        },
        {
          "output_type": "display_data",
          "data": {
            "text/plain": [
              "<Figure size 640x480 with 1 Axes>"
            ],
            "image/png": "[encoded data removed]"
          },
          "metadata": {}
        }
      ],
      "source": [
        "env = gym.make(\"CartPole-v1\", render_mode=\"rgb_array\")\n",
        "state, _ = env.reset()\n",
        "done = False\n",
        "total_reward = 0\n",
        "state_image=env.render()\n",
        "plt.imshow(state_image)\n",
        "plt.show()\n",
        "\n",
        "state_image=env.render()\n",
        "action = model.predict(state[np.newaxis, :], verbose=False).argmax(axis=1)[0]\n",
        "state, reward, done, _, _ = env.step(action)\n",
        "total_reward += reward\n",
        "print (f\"{action=}, {total_reward=}\")\n",
        "state_image=env.render()\n",
        "plt.imshow(state_image)\n",
        "plt.show()"
      ]
    },
    {
      "cell_type": "code",
      "source": [
        "env = gym.make(\"CartPole-v1\", render_mode=\"human\")\n",
        "\n",
        "state, _ = env.reset()\n",
        "done = False\n",
        "total_reward = 0\n",
        "\n",
        "while not done and total_reward < 500:  # force end the game after 500 time steps because the model is too good!\n",
        "    env.render()\n",
        "    action = model.predict(state[np.newaxis, :], verbose=False).argmax(axis=1)[0]\n",
        "    state, reward, done, _, _ = env.step(action)\n",
        "    total_reward += reward\n",
        "\n",
        "env.close()\n",
        "print (f\"{total_reward=}\")"
      ],
      "metadata": {
        "colab": {
          "base_uri": "https://localhost:8080/"
        },
        "id": "dBZ3Dkjf67DV",
        "outputId": "d85730db-6b3c-40ed-b7a6-0d6a3c53cf65"
      },
      "execution_count": 65,
      "outputs": [
        {
          "output_type": "stream",
          "name": "stdout",
          "text": [
            "total_reward=41.0\n"
          ]
        }
      ]
    },
    {
      "cell_type": "code",
      "execution_count": 16,
      "metadata": {
        "id": "-zerAhDxXOC6"
      },
      "outputs": [],
      "source": [
        "env.close()"
      ]
    },
    {
      "cell_type": "markdown",
      "source": [
        "The first thing I did was reduce the number of episodes. For 1000 episodes it was taking about a hour to compile. I changed the number of episodes to 150. After doing this I was able to get a reward of 69 which wasn't good at all. I reduced it even further to 50 and modified the gamma to see if that would help get a better reward. However, it did not. I think increasing the gamma didn't help because the agent has less time to explore with 50 episodes."
      ],
      "metadata": {
        "id": "OfJQFzjlhhxR"
      }
    }
  ],
  "metadata": {
    "colab": {
      "provenance": [],
      "machine_shape": "hm",
      "gpuType": "V28",
      "toc_visible": true,
      "include_colab_link": true
    },
    "kernelspec": {
      "display_name": "Python 3",
      "name": "python3"
    },
    "language_info": {
      "name": "python"
    },
    "widgets": {
      "application/vnd.jupyter.widget-state+json": {
        "0d9c896cd98b4243b3a52ae8179aeacb": {
          "model_module": "@jupyter-widgets/controls",
          "model_name": "HBoxModel",
          "model_module_version": "1.5.0",
          "state": {
            "_dom_classes": [],
            "_model_module": "@jupyter-widgets/controls",
            "_model_module_version": "1.5.0",
            "_model_name": "HBoxModel",
            "_view_count": null,
            "_view_module": "@jupyter-widgets/controls",
            "_view_module_version": "1.5.0",
            "_view_name": "HBoxView",
            "box_style": "",
            "children": [
              "IPY_MODEL_9738bed429dc4bb1a021c8ddf4cc84c9",
              "IPY_MODEL_e83e252b7ea6470e9e2cd9d4be0edcca",
              "IPY_MODEL_a55098823eef4a4c9751ca7b75d0a8b1"
            ],
            "layout": "IPY_MODEL_96ed032e244f4b49b7cb944730d345fb"
          }
        },
        "9738bed429dc4bb1a021c8ddf4cc84c9": {
          "model_module": "@jupyter-widgets/controls",
          "model_name": "HTMLModel",
          "model_module_version": "1.5.0",
          "state": {
            "_dom_classes": [],
            "_model_module": "@jupyter-widgets/controls",
            "_model_module_version": "1.5.0",
            "_model_name": "HTMLModel",
            "_view_count": null,
            "_view_module": "@jupyter-widgets/controls",
            "_view_module_version": "1.5.0",
            "_view_name": "HTMLView",
            "description": "",
            "description_tooltip": null,
            "layout": "IPY_MODEL_84424a11155a479e99ced105d56fc182",
            "placeholder": "​",
            "style": "IPY_MODEL_9fd10e6f73a741c38f982dc67d965921",
            "value": "100%"
          }
        },
        "e83e252b7ea6470e9e2cd9d4be0edcca": {
          "model_module": "@jupyter-widgets/controls",
          "model_name": "FloatProgressModel",
          "model_module_version": "1.5.0",
          "state": {
            "_dom_classes": [],
            "_model_module": "@jupyter-widgets/controls",
            "_model_module_version": "1.5.0",
            "_model_name": "FloatProgressModel",
            "_view_count": null,
            "_view_module": "@jupyter-widgets/controls",
            "_view_module_version": "1.5.0",
            "_view_name": "ProgressView",
            "bar_style": "success",
            "description": "",
            "description_tooltip": null,
            "layout": "IPY_MODEL_3d3f4489fba84be3baa972bf802bfda9",
            "max": 50,
            "min": 0,
            "orientation": "horizontal",
            "style": "IPY_MODEL_a413a8fd88614221b3d146def96612e2",
            "value": 50
          }
        },
        "a55098823eef4a4c9751ca7b75d0a8b1": {
          "model_module": "@jupyter-widgets/controls",
          "model_name": "HTMLModel",
          "model_module_version": "1.5.0",
          "state": {
            "_dom_classes": [],
            "_model_module": "@jupyter-widgets/controls",
            "_model_module_version": "1.5.0",
            "_model_name": "HTMLModel",
            "_view_count": null,
            "_view_module": "@jupyter-widgets/controls",
            "_view_module_version": "1.5.0",
            "_view_name": "HTMLView",
            "description": "",
            "description_tooltip": null,
            "layout": "IPY_MODEL_38cb33e7f58149ab8b4e795e58366ed7",
            "placeholder": "​",
            "style": "IPY_MODEL_b8852e6ee72c41388955bc0199c0ec70",
            "value": " 50/50 [05:17&lt;00:00,  9.57s/it]"
          }
        },
        "96ed032e244f4b49b7cb944730d345fb": {
          "model_module": "@jupyter-widgets/base",
          "model_name": "LayoutModel",
          "model_module_version": "1.2.0",
          "state": {
            "_model_module": "@jupyter-widgets/base",
            "_model_module_version": "1.2.0",
            "_model_name": "LayoutModel",
            "_view_count": null,
            "_view_module": "@jupyter-widgets/base",
            "_view_module_version": "1.2.0",
            "_view_name": "LayoutView",
            "align_content": null,
            "align_items": null,
            "align_self": null,
            "border": null,
            "bottom": null,
            "display": null,
            "flex": null,
            "flex_flow": null,
            "grid_area": null,
            "grid_auto_columns": null,
            "grid_auto_flow": null,
            "grid_auto_rows": null,
            "grid_column": null,
            "grid_gap": null,
            "grid_row": null,
            "grid_template_areas": null,
            "grid_template_columns": null,
            "grid_template_rows": null,
            "height": null,
            "justify_content": null,
            "justify_items": null,
            "left": null,
            "margin": null,
            "max_height": null,
            "max_width": null,
            "min_height": null,
            "min_width": null,
            "object_fit": null,
            "object_position": null,
            "order": null,
            "overflow": null,
            "overflow_x": null,
            "overflow_y": null,
            "padding": null,
            "right": null,
            "top": null,
            "visibility": null,
            "width": null
          }
        },
        "84424a11155a479e99ced105d56fc182": {
          "model_module": "@jupyter-widgets/base",
          "model_name": "LayoutModel",
          "model_module_version": "1.2.0",
          "state": {
            "_model_module": "@jupyter-widgets/base",
            "_model_module_version": "1.2.0",
            "_model_name": "LayoutModel",
            "_view_count": null,
            "_view_module": "@jupyter-widgets/base",
            "_view_module_version": "1.2.0",
            "_view_name": "LayoutView",
            "align_content": null,
            "align_items": null,
            "align_self": null,
            "border": null,
            "bottom": null,
            "display": null,
            "flex": null,
            "flex_flow": null,
            "grid_area": null,
            "grid_auto_columns": null,
            "grid_auto_flow": null,
            "grid_auto_rows": null,
            "grid_column": null,
            "grid_gap": null,
            "grid_row": null,
            "grid_template_areas": null,
            "grid_template_columns": null,
            "grid_template_rows": null,
            "height": null,
            "justify_content": null,
            "justify_items": null,
            "left": null,
            "margin": null,
            "max_height": null,
            "max_width": null,
            "min_height": null,
            "min_width": null,
            "object_fit": null,
            "object_position": null,
            "order": null,
            "overflow": null,
            "overflow_x": null,
            "overflow_y": null,
            "padding": null,
            "right": null,
            "top": null,
            "visibility": null,
            "width": null
          }
        },
        "9fd10e6f73a741c38f982dc67d965921": {
          "model_module": "@jupyter-widgets/controls",
          "model_name": "DescriptionStyleModel",
          "model_module_version": "1.5.0",
          "state": {
            "_model_module": "@jupyter-widgets/controls",
            "_model_module_version": "1.5.0",
            "_model_name": "DescriptionStyleModel",
            "_view_count": null,
            "_view_module": "@jupyter-widgets/base",
            "_view_module_version": "1.2.0",
            "_view_name": "StyleView",
            "description_width": ""
          }
        },
        "3d3f4489fba84be3baa972bf802bfda9": {
          "model_module": "@jupyter-widgets/base",
          "model_name": "LayoutModel",
          "model_module_version": "1.2.0",
          "state": {
            "_model_module": "@jupyter-widgets/base",
            "_model_module_version": "1.2.0",
            "_model_name": "LayoutModel",
            "_view_count": null,
            "_view_module": "@jupyter-widgets/base",
            "_view_module_version": "1.2.0",
            "_view_name": "LayoutView",
            "align_content": null,
            "align_items": null,
            "align_self": null,
            "border": null,
            "bottom": null,
            "display": null,
            "flex": null,
            "flex_flow": null,
            "grid_area": null,
            "grid_auto_columns": null,
            "grid_auto_flow": null,
            "grid_auto_rows": null,
            "grid_column": null,
            "grid_gap": null,
            "grid_row": null,
            "grid_template_areas": null,
            "grid_template_columns": null,
            "grid_template_rows": null,
            "height": null,
            "justify_content": null,
            "justify_items": null,
            "left": null,
            "margin": null,
            "max_height": null,
            "max_width": null,
            "min_height": null,
            "min_width": null,
            "object_fit": null,
            "object_position": null,
            "order": null,
            "overflow": null,
            "overflow_x": null,
            "overflow_y": null,
            "padding": null,
            "right": null,
            "top": null,
            "visibility": null,
            "width": null
          }
        },
        "a413a8fd88614221b3d146def96612e2": {
          "model_module": "@jupyter-widgets/controls",
          "model_name": "ProgressStyleModel",
          "model_module_version": "1.5.0",
          "state": {
            "_model_module": "@jupyter-widgets/controls",
            "_model_module_version": "1.5.0",
            "_model_name": "ProgressStyleModel",
            "_view_count": null,
            "_view_module": "@jupyter-widgets/base",
            "_view_module_version": "1.2.0",
            "_view_name": "StyleView",
            "bar_color": null,
            "description_width": ""
          }
        },
        "38cb33e7f58149ab8b4e795e58366ed7": {
          "model_module": "@jupyter-widgets/base",
          "model_name": "LayoutModel",
          "model_module_version": "1.2.0",
          "state": {
            "_model_module": "@jupyter-widgets/base",
            "_model_module_version": "1.2.0",
            "_model_name": "LayoutModel",
            "_view_count": null,
            "_view_module": "@jupyter-widgets/base",
            "_view_module_version": "1.2.0",
            "_view_name": "LayoutView",
            "align_content": null,
            "align_items": null,
            "align_self": null,
            "border": null,
            "bottom": null,
            "display": null,
            "flex": null,
            "flex_flow": null,
            "grid_area": null,
            "grid_auto_columns": null,
            "grid_auto_flow": null,
            "grid_auto_rows": null,
            "grid_column": null,
            "grid_gap": null,
            "grid_row": null,
            "grid_template_areas": null,
            "grid_template_columns": null,
            "grid_template_rows": null,
            "height": null,
            "justify_content": null,
            "justify_items": null,
            "left": null,
            "margin": null,
            "max_height": null,
            "max_width": null,
            "min_height": null,
            "min_width": null,
            "object_fit": null,
            "object_position": null,
            "order": null,
            "overflow": null,
            "overflow_x": null,
            "overflow_y": null,
            "padding": null,
            "right": null,
            "top": null,
            "visibility": null,
            "width": null
          }
        },
        "b8852e6ee72c41388955bc0199c0ec70": {
          "model_module": "@jupyter-widgets/controls",
          "model_name": "DescriptionStyleModel",
          "model_module_version": "1.5.0",
          "state": {
            "_model_module": "@jupyter-widgets/controls",
            "_model_module_version": "1.5.0",
            "_model_name": "DescriptionStyleModel",
            "_view_count": null,
            "_view_module": "@jupyter-widgets/base",
            "_view_module_version": "1.2.0",
            "_view_name": "StyleView",
            "description_width": ""
          }
        }
      }
    },
    "accelerator": "TPU"
  },
  "nbformat": 4,
  "nbformat_minor": 0
}